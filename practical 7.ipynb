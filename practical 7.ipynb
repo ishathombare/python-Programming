{
 "cells": [
  {
   "cell_type": "code",
   "execution_count": 1,
   "id": "21217a61-9f94-4432-8d18-6c7aa003d2e3",
   "metadata": {},
   "outputs": [],
   "source": [
    "import nltk"
   ]
  },
  {
   "cell_type": "code",
   "execution_count": 6,
   "id": "160892fb-8071-400c-abc3-ad24f5dbc88b",
   "metadata": {},
   "outputs": [
    {
     "name": "stderr",
     "output_type": "stream",
     "text": [
      "[nltk_data] Downloading package punkt to\n",
      "[nltk_data]     C:\\Users\\a2z\\AppData\\Roaming\\nltk_data...\n",
      "[nltk_data]   Package punkt is already up-to-date!\n",
      "[nltk_data] Downloading package punkt_tab to\n",
      "[nltk_data]     C:\\Users\\a2z\\AppData\\Roaming\\nltk_data...\n",
      "[nltk_data]   Unzipping tokenizers\\punkt_tab.zip.\n",
      "[nltk_data] Downloading package stopwords to\n",
      "[nltk_data]     C:\\Users\\a2z\\AppData\\Roaming\\nltk_data...\n",
      "[nltk_data]   Package stopwords is already up-to-date!\n",
      "[nltk_data] Downloading package wordnet to\n",
      "[nltk_data]     C:\\Users\\a2z\\AppData\\Roaming\\nltk_data...\n",
      "[nltk_data]   Package wordnet is already up-to-date!\n",
      "[nltk_data] Downloading package averaged_perceptron_tagger to\n",
      "[nltk_data]     C:\\Users\\a2z\\AppData\\Roaming\\nltk_data...\n",
      "[nltk_data]   Package averaged_perceptron_tagger is already up-to-\n",
      "[nltk_data]       date!\n"
     ]
    },
    {
     "data": {
      "text/plain": [
       "True"
      ]
     },
     "execution_count": 6,
     "metadata": {},
     "output_type": "execute_result"
    }
   ],
   "source": [
    "nltk.download('punkt')\n",
    "nltk.download('punkt_tab')\n",
    "nltk.download('stopwords')\n",
    "nltk.download('wordnet')\n",
    "nltk.download('averaged_perceptron_tagger')"
   ]
  },
  {
   "cell_type": "code",
   "execution_count": 3,
   "id": "b7a3823d-97ef-4a76-ba47-9a2b33e98a15",
   "metadata": {},
   "outputs": [],
   "source": [
    "text= \" this is a initialization of text.\""
   ]
  },
  {
   "cell_type": "code",
   "execution_count": 7,
   "id": "c0fa9afd-77f7-42b0-b00a-b76421399aa0",
   "metadata": {},
   "outputs": [
    {
     "name": "stdout",
     "output_type": "stream",
     "text": [
      "['initialization of text.']\n"
     ]
    }
   ],
   "source": [
    "from nltk.tokenize import sent_tokenize\n",
    "tokenized_text= sent_tokenize(text)\n",
    "print(tokenized_text)"
   ]
  },
  {
   "cell_type": "code",
   "execution_count": 8,
   "id": "67fc6df3-b1fe-4f22-9571-2811df380de1",
   "metadata": {},
   "outputs": [
    {
     "name": "stdout",
     "output_type": "stream",
     "text": [
      "['initialization', 'of', 'text', '.']\n"
     ]
    }
   ],
   "source": [
    "from nltk.tokenize import word_tokenize\n",
    "tokenized_word=word_tokenize(text)\n",
    "print(tokenized_word)"
   ]
  },
  {
   "cell_type": "code",
   "execution_count": 9,
   "id": "bbb914ee-6622-448e-b6de-0a7c69a83a2c",
   "metadata": {},
   "outputs": [
    {
     "name": "stdout",
     "output_type": "stream",
     "text": [
      "{\"wouldn't\", 'did', 'isn', \"mightn't\", 'from', 'theirs', 't', \"aren't\", 'yourselves', 'doesn', 'm', 'being', 'against', 'needn', 'below', 'again', 'he', \"you're\", 'the', 'too', 'me', 'when', 'before', 'both', 'but', 'until', 'hasn', 'very', 'wouldn', 'yourself', 'some', \"haven't\", 'how', 'once', \"they'd\", \"we'd\", 'himself', 'your', \"they've\", 'am', \"they'll\", 'my', 's', 'don', 'yours', 'having', 'each', 'was', 'in', \"we'll\", \"he's\", \"she'd\", 'you', 'nor', 'those', 'mustn', 'didn', 'o', 'where', 'couldn', 'any', 'they', 'why', 'into', 'myself', 'won', 'most', 'had', 'that', 'over', 'them', 'so', 'we', \"i'll\", 'll', 'now', \"she's\", 'has', 'as', \"i'd\", \"it'd\", 'during', 'just', 'mightn', 'if', \"mustn't\", 'been', \"wasn't\", 'and', 'y', 'is', \"shan't\", 'whom', 'which', 'down', \"it's\", 'all', 'be', \"don't\", \"isn't\", 'there', 'here', 'herself', \"she'll\", \"you'd\", \"i'm\", 'shan', 'haven', 'while', 've', 'these', \"he'd\", 'of', 'or', 'have', 'she', 'by', 'no', 'ourselves', \"hadn't\", 'do', \"shouldn't\", \"hasn't\", 'i', 'ours', 'own', 'aren', 'off', 'not', 'it', 'a', 'what', \"didn't\", 'than', 'out', \"couldn't\", \"needn't\", 'through', 'him', 'itself', 'on', 'about', 'were', 'between', 'its', \"we've\", \"we're\", \"doesn't\", \"won't\", 'at', \"i've\", 'to', 'shouldn', 'with', 'only', 'up', 'above', 'because', 'other', 'her', 're', 'are', 'd', 'hers', 'their', 'ma', \"you'll\", 'same', 'more', 'an', \"should've\", 'for', 'hadn', 'few', \"it'll\", 'will', 'can', 'his', \"that'll\", 'under', \"you've\", 'should', 'after', 'doing', 'does', 'this', 'themselves', 'such', 'further', 'who', 'ain', 'then', 'wasn', \"weren't\", \"they're\", 'weren', 'our', \"he'll\"}\n",
      "Tokenized Sentence: ['data', 'science', 'is', 'an', 'field', 'that', 'uses', 'scientific', 'methods', 'processes', 'and', 'algorithms', 'to', 'extract', 'knowledge', 'from', 'data']\n",
      "Filterd Sentence: ['data', 'science', 'field', 'uses', 'scientific', 'methods', 'processes', 'algorithms', 'extract', 'knowledge', 'data']\n"
     ]
    }
   ],
   "source": [
    "import re\n",
    "from nltk.corpus import stopwords\n",
    "stop_words=set(stopwords.words(\"english\"))\n",
    "print(stop_words)\n",
    "text= \"Data science is an field that uses scientific methods, processes, and algorithms to extract knowledge from data.\"\n",
    "text= re.sub('[^a-zA-Z]', ' ',text)\n",
    "tokens = word_tokenize(text.lower())\n",
    "filtered_text=[]\n",
    "for w in tokens:\n",
    "    if w not in stop_words:\n",
    "        filtered_text.append(w)\n",
    "print(\"Tokenized Sentence:\",tokens)\n",
    "print(\"Filterd Sentence:\",filtered_text)"
   ]
  },
  {
   "cell_type": "code",
   "execution_count": 15,
   "id": "4e556ea5-97fd-46fd-82cf-2ec87f78b24a",
   "metadata": {},
   "outputs": [
    {
     "name": "stdout",
     "output_type": "stream",
     "text": [
      "walk\n"
     ]
    }
   ],
   "source": [
    "from nltk.stem import PorterStemmer\n",
    "ps = PorterStemmer()\n",
    "e_words= [\"walk\",\"walking\",\"walked\",\"walks\"]\n",
    "for w in e_words:\n",
    "    rootWord=ps.stem(w)\n",
    "print(rootWord)"
   ]
  },
  {
   "cell_type": "code",
   "execution_count": 17,
   "id": "eb5adfc3-f3c5-4d96-811b-b82cf18c0715",
   "metadata": {},
   "outputs": [
    {
     "name": "stdout",
     "output_type": "stream",
     "text": [
      "Lemma for studies is study\n",
      "Lemma for studying is studying\n",
      "Lemma for cries is cry\n",
      "Lemma for cry is cry\n"
     ]
    }
   ],
   "source": [
    "from nltk.stem import WordNetLemmatizer\n",
    "from nltk.tokenize import word_tokenize\n",
    "wordnet_lemmatizer = WordNetLemmatizer()\n",
    "text = \"studies studying cries cry\"\n",
    "tokenization = word_tokenize(text)\n",
    "for w in tokenization:\n",
    "    print(\"Lemma for {} is {}\".format(w, wordnet_lemmatizer.lemmatize(w)))"
   ]
  },
  {
   "cell_type": "code",
   "execution_count": 21,
   "id": "5d1732d6-61ed-4343-89a0-fdaf61eec9a1",
   "metadata": {},
   "outputs": [
    {
     "name": "stdout",
     "output_type": "stream",
     "text": [
      "[('The', 'DT')]\n",
      "[('blue', 'NN')]\n",
      "[('tshirt', 'NN')]\n",
      "[('is', 'VBZ')]\n",
      "[('for', 'IN')]\n",
      "[('her', 'PRP$')]\n"
     ]
    }
   ],
   "source": [
    "import nltk\n",
    "from nltk.tokenize import word_tokenize\n",
    "data = \"The blue tshirt is for her\"\n",
    "words = word_tokenize(data)\n",
    "for word in words:\n",
    "    print(nltk.pos_tag([word]))"
   ]
  }
 ],
 "metadata": {
  "kernelspec": {
   "display_name": "Python 3 (ipykernel)",
   "language": "python",
   "name": "python3"
  },
  "language_info": {
   "codemirror_mode": {
    "name": "ipython",
    "version": 3
   },
   "file_extension": ".py",
   "mimetype": "text/x-python",
   "name": "python",
   "nbconvert_exporter": "python",
   "pygments_lexer": "ipython3",
   "version": "3.12.7"
  }
 },
 "nbformat": 4,
 "nbformat_minor": 5
}
