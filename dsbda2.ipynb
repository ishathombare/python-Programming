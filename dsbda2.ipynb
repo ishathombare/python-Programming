{
 "cells": [
  {
   "cell_type": "code",
   "execution_count": 17,
   "id": "fd27e832-731a-412d-aa52-8b39a42bea47",
   "metadata": {},
   "outputs": [],
   "source": [
    "import pandas as pd\n",
    "import numpy as np"
   ]
  },
  {
   "cell_type": "code",
   "execution_count": 10,
   "id": "a3910b8e-6e3e-437c-8109-b92452e36c46",
   "metadata": {},
   "outputs": [
    {
     "name": "stdout",
     "output_type": "stream",
     "text": [
      "    maths  reading  writing  placement  join date  placement count\n",
      "0      71       89       67         93       2018                2\n",
      "1      71       84       66         83       2019                3\n",
      "2      66       81       77         92       2019                2\n",
      "3      63       88       63         76       2019                3\n",
      "4      68       76       64         88       2021                3\n",
      "5      80       94       69         97       2020                2\n",
      "6      63       80       64         79       2019                3\n",
      "7      67       89       64         98       2018                3\n",
      "8      64       95       72         88       2021                2\n",
      "9      70       83       77         81       2019                2\n",
      "10     80       94       80         81       2019                3\n",
      "11     68       80       61         86       2021                3\n",
      "12     65       81       67         87       2018                3\n",
      "13     60       84       70         86       2018                2\n",
      "14     80       90       71         76       2018                3\n",
      "15     64       94       70         93       2020                3\n",
      "16     62       78       74         91       2019                2\n",
      "17     67       89       74         81       2020                3\n",
      "18     69       92       61         94       2021                3\n",
      "19     72       88       67         89       2021                2\n",
      "20     77       87       68         81       2021                3\n",
      "21     71       92       77         99       2020                3\n",
      "22     67       78       79         95       2020                3\n",
      "23     65       89       64         89       2020                3\n",
      "24     65       90       74         93       2020                2\n",
      "25     80       90       66         81       2021                2\n",
      "26     75       84       66         84       2020                3\n",
      "27     60       95       69         88       2021                2\n",
      "28     68       95       80         83       2021                1\n"
     ]
    }
   ],
   "source": [
    "dt =pd.read_csv(\"students_per.csv\")\n",
    "print(dt)"
   ]
  },
  {
   "cell_type": "code",
   "execution_count": 11,
   "id": "47b3ef99-3a22-48cc-af74-17c366f43a17",
   "metadata": {},
   "outputs": [
    {
     "data": {
      "text/html": [
       "<div>\n",
       "<style scoped>\n",
       "    .dataframe tbody tr th:only-of-type {\n",
       "        vertical-align: middle;\n",
       "    }\n",
       "\n",
       "    .dataframe tbody tr th {\n",
       "        vertical-align: top;\n",
       "    }\n",
       "\n",
       "    .dataframe thead th {\n",
       "        text-align: right;\n",
       "    }\n",
       "</style>\n",
       "<table border=\"1\" class=\"dataframe\">\n",
       "  <thead>\n",
       "    <tr style=\"text-align: right;\">\n",
       "      <th></th>\n",
       "      <th>maths</th>\n",
       "      <th>reading</th>\n",
       "      <th>writing</th>\n",
       "      <th>placement</th>\n",
       "      <th>join date</th>\n",
       "      <th>placement count</th>\n",
       "    </tr>\n",
       "  </thead>\n",
       "  <tbody>\n",
       "    <tr>\n",
       "      <th>count</th>\n",
       "      <td>29.000000</td>\n",
       "      <td>29.000000</td>\n",
       "      <td>29.000000</td>\n",
       "      <td>29.000000</td>\n",
       "      <td>29.000000</td>\n",
       "      <td>29.000000</td>\n",
       "    </tr>\n",
       "    <tr>\n",
       "      <th>mean</th>\n",
       "      <td>68.896552</td>\n",
       "      <td>87.206897</td>\n",
       "      <td>69.689655</td>\n",
       "      <td>87.310345</td>\n",
       "      <td>2019.724138</td>\n",
       "      <td>2.551724</td>\n",
       "    </tr>\n",
       "    <tr>\n",
       "      <th>std</th>\n",
       "      <td>6.008000</td>\n",
       "      <td>5.759336</td>\n",
       "      <td>5.714039</td>\n",
       "      <td>6.448164</td>\n",
       "      <td>1.098588</td>\n",
       "      <td>0.572351</td>\n",
       "    </tr>\n",
       "    <tr>\n",
       "      <th>min</th>\n",
       "      <td>60.000000</td>\n",
       "      <td>76.000000</td>\n",
       "      <td>61.000000</td>\n",
       "      <td>76.000000</td>\n",
       "      <td>2018.000000</td>\n",
       "      <td>1.000000</td>\n",
       "    </tr>\n",
       "    <tr>\n",
       "      <th>25%</th>\n",
       "      <td>65.000000</td>\n",
       "      <td>83.000000</td>\n",
       "      <td>66.000000</td>\n",
       "      <td>81.000000</td>\n",
       "      <td>2019.000000</td>\n",
       "      <td>2.000000</td>\n",
       "    </tr>\n",
       "    <tr>\n",
       "      <th>50%</th>\n",
       "      <td>68.000000</td>\n",
       "      <td>89.000000</td>\n",
       "      <td>69.000000</td>\n",
       "      <td>88.000000</td>\n",
       "      <td>2020.000000</td>\n",
       "      <td>3.000000</td>\n",
       "    </tr>\n",
       "    <tr>\n",
       "      <th>75%</th>\n",
       "      <td>71.000000</td>\n",
       "      <td>92.000000</td>\n",
       "      <td>74.000000</td>\n",
       "      <td>93.000000</td>\n",
       "      <td>2021.000000</td>\n",
       "      <td>3.000000</td>\n",
       "    </tr>\n",
       "    <tr>\n",
       "      <th>max</th>\n",
       "      <td>80.000000</td>\n",
       "      <td>95.000000</td>\n",
       "      <td>80.000000</td>\n",
       "      <td>99.000000</td>\n",
       "      <td>2021.000000</td>\n",
       "      <td>3.000000</td>\n",
       "    </tr>\n",
       "  </tbody>\n",
       "</table>\n",
       "</div>"
      ],
      "text/plain": [
       "           maths    reading    writing  placement    join date  \\\n",
       "count  29.000000  29.000000  29.000000  29.000000    29.000000   \n",
       "mean   68.896552  87.206897  69.689655  87.310345  2019.724138   \n",
       "std     6.008000   5.759336   5.714039   6.448164     1.098588   \n",
       "min    60.000000  76.000000  61.000000  76.000000  2018.000000   \n",
       "25%    65.000000  83.000000  66.000000  81.000000  2019.000000   \n",
       "50%    68.000000  89.000000  69.000000  88.000000  2020.000000   \n",
       "75%    71.000000  92.000000  74.000000  93.000000  2021.000000   \n",
       "max    80.000000  95.000000  80.000000  99.000000  2021.000000   \n",
       "\n",
       "       placement count  \n",
       "count        29.000000  \n",
       "mean          2.551724  \n",
       "std           0.572351  \n",
       "min           1.000000  \n",
       "25%           2.000000  \n",
       "50%           3.000000  \n",
       "75%           3.000000  \n",
       "max           3.000000  "
      ]
     },
     "execution_count": 11,
     "metadata": {},
     "output_type": "execute_result"
    }
   ],
   "source": [
    "dt.describe()"
   ]
  },
  {
   "cell_type": "code",
   "execution_count": 12,
   "id": "0973e71e-c495-4ba5-a577-250abc08c8f5",
   "metadata": {},
   "outputs": [
    {
     "data": {
      "text/html": [
       "<div>\n",
       "<style scoped>\n",
       "    .dataframe tbody tr th:only-of-type {\n",
       "        vertical-align: middle;\n",
       "    }\n",
       "\n",
       "    .dataframe tbody tr th {\n",
       "        vertical-align: top;\n",
       "    }\n",
       "\n",
       "    .dataframe thead th {\n",
       "        text-align: right;\n",
       "    }\n",
       "</style>\n",
       "<table border=\"1\" class=\"dataframe\">\n",
       "  <thead>\n",
       "    <tr style=\"text-align: right;\">\n",
       "      <th></th>\n",
       "      <th>maths</th>\n",
       "      <th>reading</th>\n",
       "      <th>writing</th>\n",
       "      <th>placement</th>\n",
       "      <th>join date</th>\n",
       "      <th>placement count</th>\n",
       "    </tr>\n",
       "  </thead>\n",
       "  <tbody>\n",
       "    <tr>\n",
       "      <th>0</th>\n",
       "      <td>False</td>\n",
       "      <td>False</td>\n",
       "      <td>False</td>\n",
       "      <td>False</td>\n",
       "      <td>False</td>\n",
       "      <td>False</td>\n",
       "    </tr>\n",
       "    <tr>\n",
       "      <th>1</th>\n",
       "      <td>False</td>\n",
       "      <td>False</td>\n",
       "      <td>False</td>\n",
       "      <td>False</td>\n",
       "      <td>False</td>\n",
       "      <td>False</td>\n",
       "    </tr>\n",
       "    <tr>\n",
       "      <th>2</th>\n",
       "      <td>False</td>\n",
       "      <td>False</td>\n",
       "      <td>False</td>\n",
       "      <td>False</td>\n",
       "      <td>False</td>\n",
       "      <td>False</td>\n",
       "    </tr>\n",
       "    <tr>\n",
       "      <th>3</th>\n",
       "      <td>False</td>\n",
       "      <td>False</td>\n",
       "      <td>False</td>\n",
       "      <td>False</td>\n",
       "      <td>False</td>\n",
       "      <td>False</td>\n",
       "    </tr>\n",
       "    <tr>\n",
       "      <th>4</th>\n",
       "      <td>False</td>\n",
       "      <td>False</td>\n",
       "      <td>False</td>\n",
       "      <td>False</td>\n",
       "      <td>False</td>\n",
       "      <td>False</td>\n",
       "    </tr>\n",
       "    <tr>\n",
       "      <th>5</th>\n",
       "      <td>False</td>\n",
       "      <td>False</td>\n",
       "      <td>False</td>\n",
       "      <td>False</td>\n",
       "      <td>False</td>\n",
       "      <td>False</td>\n",
       "    </tr>\n",
       "    <tr>\n",
       "      <th>6</th>\n",
       "      <td>False</td>\n",
       "      <td>False</td>\n",
       "      <td>False</td>\n",
       "      <td>False</td>\n",
       "      <td>False</td>\n",
       "      <td>False</td>\n",
       "    </tr>\n",
       "    <tr>\n",
       "      <th>7</th>\n",
       "      <td>False</td>\n",
       "      <td>False</td>\n",
       "      <td>False</td>\n",
       "      <td>False</td>\n",
       "      <td>False</td>\n",
       "      <td>False</td>\n",
       "    </tr>\n",
       "    <tr>\n",
       "      <th>8</th>\n",
       "      <td>False</td>\n",
       "      <td>False</td>\n",
       "      <td>False</td>\n",
       "      <td>False</td>\n",
       "      <td>False</td>\n",
       "      <td>False</td>\n",
       "    </tr>\n",
       "    <tr>\n",
       "      <th>9</th>\n",
       "      <td>False</td>\n",
       "      <td>False</td>\n",
       "      <td>False</td>\n",
       "      <td>False</td>\n",
       "      <td>False</td>\n",
       "      <td>False</td>\n",
       "    </tr>\n",
       "    <tr>\n",
       "      <th>10</th>\n",
       "      <td>False</td>\n",
       "      <td>False</td>\n",
       "      <td>False</td>\n",
       "      <td>False</td>\n",
       "      <td>False</td>\n",
       "      <td>False</td>\n",
       "    </tr>\n",
       "    <tr>\n",
       "      <th>11</th>\n",
       "      <td>False</td>\n",
       "      <td>False</td>\n",
       "      <td>False</td>\n",
       "      <td>False</td>\n",
       "      <td>False</td>\n",
       "      <td>False</td>\n",
       "    </tr>\n",
       "    <tr>\n",
       "      <th>12</th>\n",
       "      <td>False</td>\n",
       "      <td>False</td>\n",
       "      <td>False</td>\n",
       "      <td>False</td>\n",
       "      <td>False</td>\n",
       "      <td>False</td>\n",
       "    </tr>\n",
       "    <tr>\n",
       "      <th>13</th>\n",
       "      <td>False</td>\n",
       "      <td>False</td>\n",
       "      <td>False</td>\n",
       "      <td>False</td>\n",
       "      <td>False</td>\n",
       "      <td>False</td>\n",
       "    </tr>\n",
       "    <tr>\n",
       "      <th>14</th>\n",
       "      <td>False</td>\n",
       "      <td>False</td>\n",
       "      <td>False</td>\n",
       "      <td>False</td>\n",
       "      <td>False</td>\n",
       "      <td>False</td>\n",
       "    </tr>\n",
       "    <tr>\n",
       "      <th>15</th>\n",
       "      <td>False</td>\n",
       "      <td>False</td>\n",
       "      <td>False</td>\n",
       "      <td>False</td>\n",
       "      <td>False</td>\n",
       "      <td>False</td>\n",
       "    </tr>\n",
       "    <tr>\n",
       "      <th>16</th>\n",
       "      <td>False</td>\n",
       "      <td>False</td>\n",
       "      <td>False</td>\n",
       "      <td>False</td>\n",
       "      <td>False</td>\n",
       "      <td>False</td>\n",
       "    </tr>\n",
       "    <tr>\n",
       "      <th>17</th>\n",
       "      <td>False</td>\n",
       "      <td>False</td>\n",
       "      <td>False</td>\n",
       "      <td>False</td>\n",
       "      <td>False</td>\n",
       "      <td>False</td>\n",
       "    </tr>\n",
       "    <tr>\n",
       "      <th>18</th>\n",
       "      <td>False</td>\n",
       "      <td>False</td>\n",
       "      <td>False</td>\n",
       "      <td>False</td>\n",
       "      <td>False</td>\n",
       "      <td>False</td>\n",
       "    </tr>\n",
       "    <tr>\n",
       "      <th>19</th>\n",
       "      <td>False</td>\n",
       "      <td>False</td>\n",
       "      <td>False</td>\n",
       "      <td>False</td>\n",
       "      <td>False</td>\n",
       "      <td>False</td>\n",
       "    </tr>\n",
       "    <tr>\n",
       "      <th>20</th>\n",
       "      <td>False</td>\n",
       "      <td>False</td>\n",
       "      <td>False</td>\n",
       "      <td>False</td>\n",
       "      <td>False</td>\n",
       "      <td>False</td>\n",
       "    </tr>\n",
       "    <tr>\n",
       "      <th>21</th>\n",
       "      <td>False</td>\n",
       "      <td>False</td>\n",
       "      <td>False</td>\n",
       "      <td>False</td>\n",
       "      <td>False</td>\n",
       "      <td>False</td>\n",
       "    </tr>\n",
       "    <tr>\n",
       "      <th>22</th>\n",
       "      <td>False</td>\n",
       "      <td>False</td>\n",
       "      <td>False</td>\n",
       "      <td>False</td>\n",
       "      <td>False</td>\n",
       "      <td>False</td>\n",
       "    </tr>\n",
       "    <tr>\n",
       "      <th>23</th>\n",
       "      <td>False</td>\n",
       "      <td>False</td>\n",
       "      <td>False</td>\n",
       "      <td>False</td>\n",
       "      <td>False</td>\n",
       "      <td>False</td>\n",
       "    </tr>\n",
       "    <tr>\n",
       "      <th>24</th>\n",
       "      <td>False</td>\n",
       "      <td>False</td>\n",
       "      <td>False</td>\n",
       "      <td>False</td>\n",
       "      <td>False</td>\n",
       "      <td>False</td>\n",
       "    </tr>\n",
       "    <tr>\n",
       "      <th>25</th>\n",
       "      <td>False</td>\n",
       "      <td>False</td>\n",
       "      <td>False</td>\n",
       "      <td>False</td>\n",
       "      <td>False</td>\n",
       "      <td>False</td>\n",
       "    </tr>\n",
       "    <tr>\n",
       "      <th>26</th>\n",
       "      <td>False</td>\n",
       "      <td>False</td>\n",
       "      <td>False</td>\n",
       "      <td>False</td>\n",
       "      <td>False</td>\n",
       "      <td>False</td>\n",
       "    </tr>\n",
       "    <tr>\n",
       "      <th>27</th>\n",
       "      <td>False</td>\n",
       "      <td>False</td>\n",
       "      <td>False</td>\n",
       "      <td>False</td>\n",
       "      <td>False</td>\n",
       "      <td>False</td>\n",
       "    </tr>\n",
       "    <tr>\n",
       "      <th>28</th>\n",
       "      <td>False</td>\n",
       "      <td>False</td>\n",
       "      <td>False</td>\n",
       "      <td>False</td>\n",
       "      <td>False</td>\n",
       "      <td>False</td>\n",
       "    </tr>\n",
       "  </tbody>\n",
       "</table>\n",
       "</div>"
      ],
      "text/plain": [
       "    maths  reading  writing  placement  join date  placement count\n",
       "0   False    False    False      False      False            False\n",
       "1   False    False    False      False      False            False\n",
       "2   False    False    False      False      False            False\n",
       "3   False    False    False      False      False            False\n",
       "4   False    False    False      False      False            False\n",
       "5   False    False    False      False      False            False\n",
       "6   False    False    False      False      False            False\n",
       "7   False    False    False      False      False            False\n",
       "8   False    False    False      False      False            False\n",
       "9   False    False    False      False      False            False\n",
       "10  False    False    False      False      False            False\n",
       "11  False    False    False      False      False            False\n",
       "12  False    False    False      False      False            False\n",
       "13  False    False    False      False      False            False\n",
       "14  False    False    False      False      False            False\n",
       "15  False    False    False      False      False            False\n",
       "16  False    False    False      False      False            False\n",
       "17  False    False    False      False      False            False\n",
       "18  False    False    False      False      False            False\n",
       "19  False    False    False      False      False            False\n",
       "20  False    False    False      False      False            False\n",
       "21  False    False    False      False      False            False\n",
       "22  False    False    False      False      False            False\n",
       "23  False    False    False      False      False            False\n",
       "24  False    False    False      False      False            False\n",
       "25  False    False    False      False      False            False\n",
       "26  False    False    False      False      False            False\n",
       "27  False    False    False      False      False            False\n",
       "28  False    False    False      False      False            False"
      ]
     },
     "execution_count": 12,
     "metadata": {},
     "output_type": "execute_result"
    }
   ],
   "source": [
    "dt.isnull()"
   ]
  },
  {
   "cell_type": "code",
   "execution_count": 13,
   "id": "6b0dbcde-42a8-42b8-99c5-39e47fcc3281",
   "metadata": {},
   "outputs": [
    {
     "data": {
      "text/plain": [
       "<bound method DataFrame.sum of            maths    reading    writing  placement    join date  \\\n",
       "count  29.000000  29.000000  29.000000  29.000000    29.000000   \n",
       "mean   68.896552  87.206897  69.689655  87.310345  2019.724138   \n",
       "std     6.008000   5.759336   5.714039   6.448164     1.098588   \n",
       "min    60.000000  76.000000  61.000000  76.000000  2018.000000   \n",
       "25%    65.000000  83.000000  66.000000  81.000000  2019.000000   \n",
       "50%    68.000000  89.000000  69.000000  88.000000  2020.000000   \n",
       "75%    71.000000  92.000000  74.000000  93.000000  2021.000000   \n",
       "max    80.000000  95.000000  80.000000  99.000000  2021.000000   \n",
       "\n",
       "       placement count  \n",
       "count        29.000000  \n",
       "mean          2.551724  \n",
       "std           0.572351  \n",
       "min           1.000000  \n",
       "25%           2.000000  \n",
       "50%           3.000000  \n",
       "75%           3.000000  \n",
       "max           3.000000  >"
      ]
     },
     "execution_count": 13,
     "metadata": {},
     "output_type": "execute_result"
    }
   ],
   "source": [
    "dt.describe().sum"
   ]
  },
  {
   "cell_type": "code",
   "execution_count": 14,
   "id": "016cc0f7-b676-4a8c-89a5-d847b8c651c3",
   "metadata": {},
   "outputs": [
    {
     "data": {
      "text/plain": [
       "maths              0\n",
       "reading            0\n",
       "writing            0\n",
       "placement          0\n",
       "join date          0\n",
       "placement count    0\n",
       "dtype: int64"
      ]
     },
     "execution_count": 14,
     "metadata": {},
     "output_type": "execute_result"
    }
   ],
   "source": [
    "dt.isnull().sum()"
   ]
  },
  {
   "cell_type": "code",
   "execution_count": 19,
   "id": "843be9fc-926c-4825-b523-f2db9a767cc8",
   "metadata": {},
   "outputs": [],
   "source": [
    "import matplotlib.pyplot as plt"
   ]
  },
  {
   "cell_type": "code",
   "execution_count": 22,
   "id": "55c1b13f-4fb4-4286-9ea5-44c07bcbc0d7",
   "metadata": {},
   "outputs": [
    {
     "data": {
      "image/png": "[encoded data removed]",
      "text/plain": [
       "<Figure size 640x480 with 1 Axes>"
      ]
     },
     "metadata": {},
     "output_type": "display_data"
    }
   ],
   "source": [
    "col = ['maths','writing','placement','placement count']\n",
    "dt.boxplot(col)\n",
    "plt.show()"
   ]
  },
  {
   "cell_type": "code",
   "execution_count": 25,
   "id": "0e690436-99e2-4bf9-9d78-595b61f6646f",
   "metadata": {},
   "outputs": [
    {
     "name": "stdout",
     "output_type": "stream",
     "text": [
      "(array([], dtype=int64),)\n",
      "(array([], dtype=int64),)\n",
      "(array([], dtype=int64),)\n"
     ]
    }
   ],
   "source": [
    "print(np.where(dt['maths']>90))\n",
    "print(np.where(dt['placement']<25))\n",
    "print(np.where(dt['writing']<30))\n"
   ]
  },
  {
   "cell_type": "code",
   "execution_count": 27,
   "id": "385373b2-2d0f-4e85-8161-30dc7661259e",
   "metadata": {},
   "outputs": [],
   "source": [
    "from scipy import stats"
   ]
  },
  {
   "cell_type": "code",
   "execution_count": 29,
   "id": "d4b9be8b-fed7-4718-a464-38896b2de308",
   "metadata": {},
   "outputs": [
    {
     "name": "stdout",
     "output_type": "stream",
     "text": [
      "(array([], dtype=int64),)\n",
      "(array([ 0,  2,  5,  8, 13, 16, 19, 24, 27], dtype=int64),)\n"
     ]
    }
   ],
   "source": [
    "print(np.where((dt['placement']<50) & (dt['placement count']>1)))\n",
    "print(np.where((dt['placement']>85) & (dt['placement count']<3)))"
   ]
  },
  {
   "cell_type": "code",
   "execution_count": 30,
   "id": "e9c1351f-2457-4245-9708-dd08b1b38db8",
   "metadata": {},
   "outputs": [
    {
     "name": "stdout",
     "output_type": "stream",
     "text": [
      "0     0.356305\n",
      "1     0.356305\n",
      "2     0.490650\n",
      "3     0.998822\n",
      "4     0.151868\n",
      "5     1.880823\n",
      "6     0.998822\n",
      "7     0.321259\n",
      "8     0.829431\n",
      "9     0.186914\n",
      "10    1.880823\n",
      "11    0.151868\n",
      "12    0.660040\n",
      "13    1.506995\n",
      "14    1.880823\n",
      "15    0.829431\n",
      "16    1.168213\n",
      "17    0.321259\n",
      "18    0.017523\n",
      "19    0.525696\n",
      "20    1.372650\n",
      "21    0.356305\n",
      "22    0.321259\n",
      "23    0.660040\n",
      "24    0.660040\n",
      "25    1.880823\n",
      "26    1.033869\n",
      "27    1.506995\n",
      "28    0.151868\n",
      "Name: maths, dtype: float64\n"
     ]
    }
   ],
   "source": [
    "z = np.abs(stats.zscore(dt['maths']))\n",
    "print(z)"
   ]
  },
  {
   "cell_type": "code",
   "execution_count": 31,
   "id": "cefc0162-9758-47f6-b22f-e278ad5d9b71",
   "metadata": {},
   "outputs": [
    {
     "data": {
      "text/plain": [
       "(array([ 4, 11, 18, 28], dtype=int64),)"
      ]
     },
     "execution_count": 31,
     "metadata": {},
     "output_type": "execute_result"
    }
   ],
   "source": [
    "threshold = 0.18\n",
    "sample_outliers = np.where(z <threshold)\n",
    "sample_outliers"
   ]
  },
  {
   "cell_type": "code",
   "execution_count": 32,
   "id": "39ed36a1-ebc2-4b29-91f0-0b40d51cba3e",
   "metadata": {},
   "outputs": [
    {
     "name": "stdout",
     "output_type": "stream",
     "text": [
      "[60, 60, 62, 63, 63, 64, 64, 65, 65, 65, 66, 67, 67, 67, 68, 68, 68, 69, 70, 71, 71, 71, 72, 75, 77, 80, 80, 80, 80]\n"
     ]
    }
   ],
   "source": [
    "sorted_mscore = sorted(dt['maths'])\n",
    "print(sorted_mscore)"
   ]
  },
  {
   "cell_type": "code",
   "execution_count": 35,
   "id": "702ddbd9-c291-41b1-9516-758205a93d24",
   "metadata": {},
   "outputs": [
    {
     "name": "stdout",
     "output_type": "stream",
     "text": [
      "65.0\n"
     ]
    }
   ],
   "source": [
    "q1 = np.percentile(sorted_mscore, 25)\n",
    "print(q1)"
   ]
  },
  {
   "cell_type": "code",
   "execution_count": 36,
   "id": "103241ba-7593-46d3-b43a-c215efc53fb1",
   "metadata": {},
   "outputs": [
    {
     "name": "stdout",
     "output_type": "stream",
     "text": [
      "71.0\n"
     ]
    }
   ],
   "source": [
    "q3=np.percentile(sorted_mscore,75)\n",
    "print(q3)"
   ]
  },
  {
   "cell_type": "code",
   "execution_count": 37,
   "id": "dc7a4d03-95e5-4400-9c21-a05685905372",
   "metadata": {},
   "outputs": [],
   "source": [
    "IQR = q3-q1"
   ]
  },
  {
   "cell_type": "code",
   "execution_count": 38,
   "id": "588591ad-f5b0-4713-9866-9b6c1044b7aa",
   "metadata": {},
   "outputs": [
    {
     "name": "stdout",
     "output_type": "stream",
     "text": [
      "56.0 80.0\n"
     ]
    }
   ],
   "source": [
    "lwr_bound = q1-(1.5*IQR)\n",
    "upr_bound = q3+(1.5*IQR)\n",
    "print(lwr_bound, upr_bound)"
   ]
  },
  {
   "cell_type": "code",
   "execution_count": 39,
   "id": "3ad5a35c-01f9-4244-ae5e-347a5140af20",
   "metadata": {},
   "outputs": [
    {
     "name": "stdout",
     "output_type": "stream",
     "text": [
      "[]\n"
     ]
    }
   ],
   "source": [
    "r_outliers = []\n",
    "for i in sorted_mscore:\n",
    "    if (i<lwr_bound or i>upr_bound):\n",
    "        r_outliers.append(i)\n",
    "print(r_outliers)"
   ]
  },
  {
   "cell_type": "code",
   "execution_count": null,
   "id": "ad0636c5-6172-4ff0-8db4-a068fe24ffc7",
   "metadata": {},
   "outputs": [],
   "source": []
  }
 ],
 "metadata": {
  "kernelspec": {
   "display_name": "Python 3 (ipykernel)",
   "language": "python",
   "name": "python3"
  },
  "language_info": {
   "codemirror_mode": {
    "name": "ipython",
    "version": 3
   },
   "file_extension": ".py",
   "mimetype": "text/x-python",
   "name": "python",
   "nbconvert_exporter": "python",
   "pygments_lexer": "ipython3",
   "version": "3.12.7"
  }
 },
 "nbformat": 4,
 "nbformat_minor": 5
}
